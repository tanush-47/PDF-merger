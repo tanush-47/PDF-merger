{
  "nbformat": 4,
  "nbformat_minor": 0,
  "metadata": {
    "colab": {
      "provenance": [],
      "include_colab_link": true
    },
    "kernelspec": {
      "name": "python3",
      "display_name": "Python 3"
    },
    "language_info": {
      "name": "python"
    }
  },
  "cells": [
    {
      "cell_type": "markdown",
      "metadata": {
        "id": "view-in-github",
        "colab_type": "text"
      },
      "source": [
        "<a href=\"https://colab.research.google.com/github/tanush-47/PDF-merger/blob/main/PDF_Merger.ipynb\" target=\"_parent\"><img src=\"https://colab.research.google.com/assets/colab-badge.svg\" alt=\"Open In Colab\"/></a>"
      ]
    },
    {
      "cell_type": "code",
      "source": [
        "!pip install PyPDF2"
      ],
      "metadata": {
        "colab": {
          "base_uri": "https://localhost:8080/"
        },
        "id": "SKA48NjvZgPh",
        "outputId": "88b70978-e024-4c71-dc46-08e49d606a4c"
      },
      "execution_count": 3,
      "outputs": [
        {
          "output_type": "stream",
          "name": "stdout",
          "text": [
            "Requirement already satisfied: PyPDF2 in /usr/local/lib/python3.11/dist-packages (3.0.1)\n"
          ]
        }
      ]
    },
    {
      "cell_type": "code",
      "execution_count": 4,
      "metadata": {
        "id": "i4H7AXnIZdnX"
      },
      "outputs": [],
      "source": [
        "import PyPDF2\n",
        "\n",
        "def merge_pdfs(input_pdfs, output_pdf):\n",
        "    pdf_writer = PyPDF2.PdfWriter()\n",
        "\n",
        "    for input_pdf in input_pdfs:\n",
        "        pdf_file = open(input_pdf, 'rb')\n",
        "        pdf_reader = PyPDF2.PdfReader(pdf_file)\n",
        "        num_pages = len(pdf_reader.pages)\n",
        "\n",
        "        for page in range(num_pages):\n",
        "            pdf_writer.add_page(pdf_reader.pages[page])\n",
        "\n",
        "        pdf_file.close()\n",
        "\n",
        "    with open(output_pdf, 'wb') as output_file:\n",
        "        pdf_writer.write(output_file)\n",
        "\n",
        "# Example usage:\n",
        "input_pdfs = [\"/content/part1.pdf\", \"/content/part2.pdf\"]\n",
        "output_pdf = \"output.pdf\"\n",
        "merge_pdfs(input_pdfs, output_pdf)"
      ]
    }
  ]
}